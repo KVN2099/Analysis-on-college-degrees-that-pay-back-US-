{
 "cells": [
  {
   "cell_type": "code",
   "execution_count": 208,
   "id": "missing-cleveland",
   "metadata": {},
   "outputs": [],
   "source": [
    "import pandas as pd\n",
    "import matplotlib.pyplot as plt\n",
    "import numpy as np\n",
    "majors_csv = 'degrees-that-pay-back.csv'"
   ]
  },
  {
   "cell_type": "code",
   "execution_count": 209,
   "id": "focal-pension",
   "metadata": {},
   "outputs": [
    {
     "name": "stdout",
     "output_type": "stream",
     "text": [
      "                                     Starting Median Salary  \\\n",
      "Undergraduate Major                                           \n",
      "Accounting                                       $46,000.00   \n",
      "Aerospace Engineering                            $57,700.00   \n",
      "Agriculture                                      $42,600.00   \n",
      "Anthropology                                     $36,800.00   \n",
      "Architecture                                     $41,600.00   \n",
      "Art History                                      $35,800.00   \n",
      "Biology                                          $38,800.00   \n",
      "Business Management                              $43,000.00   \n",
      "Chemical Engineering                             $63,200.00   \n",
      "Chemistry                                        $42,600.00   \n",
      "Civil Engineering                                $53,900.00   \n",
      "Communications                                   $38,100.00   \n",
      "Computer Engineering                             $61,400.00   \n",
      "Computer Science                                 $55,900.00   \n",
      "Construction                                     $53,700.00   \n",
      "Criminal Justice                                 $35,000.00   \n",
      "Drama                                            $35,900.00   \n",
      "Economics                                        $50,100.00   \n",
      "Education                                        $34,900.00   \n",
      "Electrical Engineering                           $60,900.00   \n",
      "English                                          $38,000.00   \n",
      "Film                                             $37,900.00   \n",
      "Finance                                          $47,900.00   \n",
      "Forestry                                         $39,100.00   \n",
      "Geography                                        $41,200.00   \n",
      "Geology                                          $43,500.00   \n",
      "Graphic Design                                   $35,700.00   \n",
      "Health Care Administration                       $38,800.00   \n",
      "History                                          $39,200.00   \n",
      "Hospitality & Tourism                            $37,800.00   \n",
      "Industrial Engineering                           $57,700.00   \n",
      "Information Technology (IT)                      $49,100.00   \n",
      "Interior Design                                  $36,100.00   \n",
      "International Relations                          $40,900.00   \n",
      "Journalism                                       $35,600.00   \n",
      "Management Information Systems (MIS)             $49,200.00   \n",
      "Marketing                                        $40,800.00   \n",
      "Math                                             $45,400.00   \n",
      "Mechanical Engineering                           $57,900.00   \n",
      "Music                                            $35,900.00   \n",
      "Nursing                                          $54,200.00   \n",
      "Nutrition                                        $39,900.00   \n",
      "Philosophy                                       $39,900.00   \n",
      "Physician Assistant                              $74,300.00   \n",
      "Physics                                          $50,300.00   \n",
      "Political Science                                $40,800.00   \n",
      "Psychology                                       $35,900.00   \n",
      "Religion                                         $34,100.00   \n",
      "Sociology                                        $36,500.00   \n",
      "Spanish                                          $34,000.00   \n",
      "\n",
      "                                     Mid-Career Median Salary  \\\n",
      "Undergraduate Major                                             \n",
      "Accounting                                         $77,100.00   \n",
      "Aerospace Engineering                             $101,000.00   \n",
      "Agriculture                                        $71,900.00   \n",
      "Anthropology                                       $61,500.00   \n",
      "Architecture                                       $76,800.00   \n",
      "Art History                                        $64,900.00   \n",
      "Biology                                            $64,800.00   \n",
      "Business Management                                $72,100.00   \n",
      "Chemical Engineering                              $107,000.00   \n",
      "Chemistry                                          $79,900.00   \n",
      "Civil Engineering                                  $90,500.00   \n",
      "Communications                                     $70,000.00   \n",
      "Computer Engineering                              $105,000.00   \n",
      "Computer Science                                   $95,500.00   \n",
      "Construction                                       $88,900.00   \n",
      "Criminal Justice                                   $56,300.00   \n",
      "Drama                                              $56,900.00   \n",
      "Economics                                          $98,600.00   \n",
      "Education                                          $52,000.00   \n",
      "Electrical Engineering                            $103,000.00   \n",
      "English                                            $64,700.00   \n",
      "Film                                               $68,500.00   \n",
      "Finance                                            $88,300.00   \n",
      "Forestry                                           $62,600.00   \n",
      "Geography                                          $65,500.00   \n",
      "Geology                                            $79,500.00   \n",
      "Graphic Design                                     $59,800.00   \n",
      "Health Care Administration                         $60,600.00   \n",
      "History                                            $71,000.00   \n",
      "Hospitality & Tourism                              $57,500.00   \n",
      "Industrial Engineering                             $94,700.00   \n",
      "Information Technology (IT)                        $74,800.00   \n",
      "Interior Design                                    $53,200.00   \n",
      "International Relations                            $80,900.00   \n",
      "Journalism                                         $66,700.00   \n",
      "Management Information Systems (MIS)               $82,300.00   \n",
      "Marketing                                          $79,600.00   \n",
      "Math                                               $92,400.00   \n",
      "Mechanical Engineering                             $93,600.00   \n",
      "Music                                              $55,000.00   \n",
      "Nursing                                            $67,000.00   \n",
      "Nutrition                                          $55,300.00   \n",
      "Philosophy                                         $81,200.00   \n",
      "Physician Assistant                                $91,700.00   \n",
      "Physics                                            $97,300.00   \n",
      "Political Science                                  $78,200.00   \n",
      "Psychology                                         $60,400.00   \n",
      "Religion                                           $52,000.00   \n",
      "Sociology                                          $58,200.00   \n",
      "Spanish                                            $53,100.00   \n",
      "\n",
      "                                      Percent change from Starting to Mid-Career Salary  \\\n",
      "Undergraduate Major                                                                       \n",
      "Accounting                                                                         67.6   \n",
      "Aerospace Engineering                                                              75.0   \n",
      "Agriculture                                                                        68.8   \n",
      "Anthropology                                                                       67.1   \n",
      "Architecture                                                                       84.6   \n",
      "Art History                                                                        81.3   \n",
      "Biology                                                                            67.0   \n",
      "Business Management                                                                67.7   \n",
      "Chemical Engineering                                                               69.3   \n",
      "Chemistry                                                                          87.6   \n",
      "Civil Engineering                                                                  67.9   \n",
      "Communications                                                                     83.7   \n",
      "Computer Engineering                                                               71.0   \n",
      "Computer Science                                                                   70.8   \n",
      "Construction                                                                       65.5   \n",
      "Criminal Justice                                                                   60.9   \n",
      "Drama                                                                              58.5   \n",
      "Economics                                                                          96.8   \n",
      "Education                                                                          49.0   \n",
      "Electrical Engineering                                                             69.1   \n",
      "English                                                                            70.3   \n",
      "Film                                                                               80.7   \n",
      "Finance                                                                            84.3   \n",
      "Forestry                                                                           60.1   \n",
      "Geography                                                                          59.0   \n",
      "Geology                                                                            82.8   \n",
      "Graphic Design                                                                     67.5   \n",
      "Health Care Administration                                                         56.2   \n",
      "History                                                                            81.1   \n",
      "Hospitality & Tourism                                                              52.1   \n",
      "Industrial Engineering                                                             64.1   \n",
      "Information Technology (IT)                                                        52.3   \n",
      "Interior Design                                                                    47.4   \n",
      "International Relations                                                            97.8   \n",
      "Journalism                                                                         87.4   \n",
      "Management Information Systems (MIS)                                               67.3   \n",
      "Marketing                                                                          95.1   \n",
      "Math                                                                              103.5   \n",
      "Mechanical Engineering                                                             61.7   \n",
      "Music                                                                              53.2   \n",
      "Nursing                                                                            23.6   \n",
      "Nutrition                                                                          38.6   \n",
      "Philosophy                                                                        103.5   \n",
      "Physician Assistant                                                                23.4   \n",
      "Physics                                                                            93.4   \n",
      "Political Science                                                                  91.7   \n",
      "Psychology                                                                         68.2   \n",
      "Religion                                                                           52.5   \n",
      "Sociology                                                                          59.5   \n",
      "Spanish                                                                            56.2   \n",
      "\n",
      "                                     Mid-Career 10th Percentile Salary  \\\n",
      "Undergraduate Major                                                      \n",
      "Accounting                                                  $42,200.00   \n",
      "Aerospace Engineering                                       $64,300.00   \n",
      "Agriculture                                                 $36,300.00   \n",
      "Anthropology                                                $33,800.00   \n",
      "Architecture                                                $50,600.00   \n",
      "Art History                                                 $28,800.00   \n",
      "Biology                                                     $36,900.00   \n",
      "Business Management                                         $38,800.00   \n",
      "Chemical Engineering                                        $71,900.00   \n",
      "Chemistry                                                   $45,300.00   \n",
      "Civil Engineering                                           $63,400.00   \n",
      "Communications                                              $37,500.00   \n",
      "Computer Engineering                                        $66,100.00   \n",
      "Computer Science                                            $56,000.00   \n",
      "Construction                                                $56,300.00   \n",
      "Criminal Justice                                            $32,200.00   \n",
      "Drama                                                       $36,700.00   \n",
      "Economics                                                   $50,600.00   \n",
      "Education                                                   $29,300.00   \n",
      "Electrical Engineering                                      $69,300.00   \n",
      "English                                                     $33,400.00   \n",
      "Film                                                        $33,900.00   \n",
      "Finance                                                     $47,200.00   \n",
      "Forestry                                                    $41,000.00   \n",
      "Geography                                                   $40,000.00   \n",
      "Geology                                                     $45,000.00   \n",
      "Graphic Design                                              $36,000.00   \n",
      "Health Care Administration                                  $34,600.00   \n",
      "History                                                     $37,000.00   \n",
      "Hospitality & Tourism                                       $35,500.00   \n",
      "Industrial Engineering                                      $57,100.00   \n",
      "Information Technology (IT)                                 $44,500.00   \n",
      "Interior Design                                             $35,700.00   \n",
      "International Relations                                     $38,200.00   \n",
      "Journalism                                                  $38,400.00   \n",
      "Management Information Systems (MIS)                        $45,300.00   \n",
      "Marketing                                                   $42,100.00   \n",
      "Math                                                        $45,200.00   \n",
      "Mechanical Engineering                                      $63,700.00   \n",
      "Music                                                       $26,700.00   \n",
      "Nursing                                                     $47,600.00   \n",
      "Nutrition                                                   $33,900.00   \n",
      "Philosophy                                                  $35,500.00   \n",
      "Physician Assistant                                         $66,400.00   \n",
      "Physics                                                     $56,000.00   \n",
      "Political Science                                           $41,200.00   \n",
      "Psychology                                                  $31,600.00   \n",
      "Religion                                                    $29,700.00   \n",
      "Sociology                                                   $30,700.00   \n",
      "Spanish                                                     $31,000.00   \n",
      "\n",
      "                                     Mid-Career 25th Percentile Salary  \\\n",
      "Undergraduate Major                                                      \n",
      "Accounting                                                  $56,100.00   \n",
      "Aerospace Engineering                                       $82,100.00   \n",
      "Agriculture                                                 $52,100.00   \n",
      "Anthropology                                                $45,500.00   \n",
      "Architecture                                                $62,200.00   \n",
      "Art History                                                 $42,200.00   \n",
      "Biology                                                     $47,400.00   \n",
      "Business Management                                         $51,500.00   \n",
      "Chemical Engineering                                        $87,300.00   \n",
      "Chemistry                                                   $60,700.00   \n",
      "Civil Engineering                                           $75,100.00   \n",
      "Communications                                              $49,700.00   \n",
      "Computer Engineering                                        $84,100.00   \n",
      "Computer Science                                            $74,900.00   \n",
      "Construction                                                $68,100.00   \n",
      "Criminal Justice                                            $41,600.00   \n",
      "Drama                                                       $41,300.00   \n",
      "Economics                                                   $70,600.00   \n",
      "Education                                                   $37,900.00   \n",
      "Electrical Engineering                                      $83,800.00   \n",
      "English                                                     $44,800.00   \n",
      "Film                                                        $45,500.00   \n",
      "Finance                                                     $62,100.00   \n",
      "Forestry                                                    $49,300.00   \n",
      "Geography                                                   $50,000.00   \n",
      "Geology                                                     $59,600.00   \n",
      "Graphic Design                                              $45,500.00   \n",
      "Health Care Administration                                  $45,600.00   \n",
      "History                                                     $49,200.00   \n",
      "Hospitality & Tourism                                       $43,600.00   \n",
      "Industrial Engineering                                      $72,300.00   \n",
      "Information Technology (IT)                                 $56,700.00   \n",
      "Interior Design                                             $42,600.00   \n",
      "International Relations                                     $56,000.00   \n",
      "Journalism                                                  $48,300.00   \n",
      "Management Information Systems (MIS)                        $60,500.00   \n",
      "Marketing                                                   $55,600.00   \n",
      "Math                                                        $64,200.00   \n",
      "Mechanical Engineering                                      $76,200.00   \n",
      "Music                                                       $40,200.00   \n",
      "Nursing                                                     $56,400.00   \n",
      "Nutrition                                                   $44,500.00   \n",
      "Philosophy                                                  $52,800.00   \n",
      "Physician Assistant                                         $75,200.00   \n",
      "Physics                                                     $74,200.00   \n",
      "Political Science                                           $55,300.00   \n",
      "Psychology                                                  $42,100.00   \n",
      "Religion                                                    $36,500.00   \n",
      "Sociology                                                   $40,400.00   \n",
      "Spanish                                                     $40,000.00   \n",
      "\n",
      "                                     Mid-Career 75th Percentile Salary  \\\n",
      "Undergraduate Major                                                      \n",
      "Accounting                                                 $108,000.00   \n",
      "Aerospace Engineering                                      $127,000.00   \n",
      "Agriculture                                                 $96,300.00   \n",
      "Anthropology                                                $89,300.00   \n",
      "Architecture                                                $97,000.00   \n",
      "Art History                                                 $87,400.00   \n",
      "Biology                                                     $94,500.00   \n",
      "Business Management                                        $102,000.00   \n",
      "Chemical Engineering                                       $143,000.00   \n",
      "Chemistry                                                  $108,000.00   \n",
      "Civil Engineering                                          $115,000.00   \n",
      "Communications                                              $98,800.00   \n",
      "Computer Engineering                                       $135,000.00   \n",
      "Computer Science                                           $122,000.00   \n",
      "Construction                                               $118,000.00   \n",
      "Criminal Justice                                            $80,700.00   \n",
      "Drama                                                       $79,100.00   \n",
      "Economics                                                  $145,000.00   \n",
      "Education                                                   $73,400.00   \n",
      "Electrical Engineering                                     $130,000.00   \n",
      "English                                                     $93,200.00   \n",
      "Film                                                       $100,000.00   \n",
      "Finance                                                    $128,000.00   \n",
      "Forestry                                                    $78,200.00   \n",
      "Geography                                                   $90,800.00   \n",
      "Geology                                                    $101,000.00   \n",
      "Graphic Design                                              $80,800.00   \n",
      "Health Care Administration                                  $78,800.00   \n",
      "History                                                    $103,000.00   \n",
      "Hospitality & Tourism                                       $81,900.00   \n",
      "Industrial Engineering                                     $132,000.00   \n",
      "Information Technology (IT)                                 $96,700.00   \n",
      "Interior Design                                             $72,500.00   \n",
      "International Relations                                    $111,000.00   \n",
      "Journalism                                                  $97,700.00   \n",
      "Management Information Systems (MIS)                       $108,000.00   \n",
      "Marketing                                                  $119,000.00   \n",
      "Math                                                       $128,000.00   \n",
      "Mechanical Engineering                                     $120,000.00   \n",
      "Music                                                       $88,000.00   \n",
      "Nursing                                                     $80,900.00   \n",
      "Nutrition                                                   $70,500.00   \n",
      "Philosophy                                                 $127,000.00   \n",
      "Physician Assistant                                        $108,000.00   \n",
      "Physics                                                    $132,000.00   \n",
      "Political Science                                          $114,000.00   \n",
      "Psychology                                                  $87,500.00   \n",
      "Religion                                                    $70,900.00   \n",
      "Sociology                                                   $81,200.00   \n",
      "Spanish                                                     $76,800.00   \n",
      "\n",
      "                                     Mid-Career 90th Percentile Salary  \n",
      "Undergraduate Major                                                     \n",
      "Accounting                                                 $152,000.00  \n",
      "Aerospace Engineering                                      $161,000.00  \n",
      "Agriculture                                                $150,000.00  \n",
      "Anthropology                                               $138,000.00  \n",
      "Architecture                                               $136,000.00  \n",
      "Art History                                                $125,000.00  \n",
      "Biology                                                    $135,000.00  \n",
      "Business Management                                        $147,000.00  \n",
      "Chemical Engineering                                       $194,000.00  \n",
      "Chemistry                                                  $148,000.00  \n",
      "Civil Engineering                                          $148,000.00  \n",
      "Communications                                             $143,000.00  \n",
      "Computer Engineering                                       $162,000.00  \n",
      "Computer Science                                           $154,000.00  \n",
      "Construction                                               $171,000.00  \n",
      "Criminal Justice                                           $107,000.00  \n",
      "Drama                                                      $153,000.00  \n",
      "Economics                                                  $210,000.00  \n",
      "Education                                                  $102,000.00  \n",
      "Electrical Engineering                                     $168,000.00  \n",
      "English                                                    $133,000.00  \n",
      "Film                                                       $136,000.00  \n",
      "Finance                                                    $195,000.00  \n",
      "Forestry                                                   $111,000.00  \n",
      "Geography                                                  $132,000.00  \n",
      "Geology                                                    $156,000.00  \n",
      "Graphic Design                                             $112,000.00  \n",
      "Health Care Administration                                 $101,000.00  \n",
      "History                                                    $149,000.00  \n",
      "Hospitality & Tourism                                      $124,000.00  \n",
      "Industrial Engineering                                     $173,000.00  \n",
      "Information Technology (IT)                                $129,000.00  \n",
      "Interior Design                                            $107,000.00  \n",
      "International Relations                                    $157,000.00  \n",
      "Journalism                                                 $145,000.00  \n",
      "Management Information Systems (MIS)                       $146,000.00  \n",
      "Marketing                                                  $175,000.00  \n",
      "Math                                                       $183,000.00  \n",
      "Mechanical Engineering                                     $163,000.00  \n",
      "Music                                                      $134,000.00  \n",
      "Nursing                                                     $98,300.00  \n",
      "Nutrition                                                   $99,200.00  \n",
      "Philosophy                                                 $168,000.00  \n",
      "Physician Assistant                                        $124,000.00  \n",
      "Physics                                                    $178,000.00  \n",
      "Political Science                                          $168,000.00  \n",
      "Psychology                                                 $127,000.00  \n",
      "Religion                                                    $96,400.00  \n",
      "Sociology                                                  $118,000.00  \n",
      "Spanish                                                     $96,400.00  \n"
     ]
    }
   ],
   "source": [
    "df = pd.read_csv(majors_csv, index_col=0)\n",
    "print(df)"
   ]
  },
  {
   "cell_type": "code",
   "execution_count": 229,
   "id": "violent-vanilla",
   "metadata": {},
   "outputs": [],
   "source": [
    "# Function to clean data\n",
    "def clean(n):\n",
    "    return int(n[1:-3].replace(',', ''))\n",
    "# Function to format data\n",
    "def format_number(n):\n",
    "    return '${:,}'.format(n)"
   ]
  },
  {
   "cell_type": "code",
   "execution_count": 249,
   "id": "polished-frontier",
   "metadata": {},
   "outputs": [],
   "source": [
    "# Bar graph of salaries starting median values\n",
    "# Bar graph of salaries mid-career median values\n",
    "# Percent change"
   ]
  },
  {
   "cell_type": "code",
   "execution_count": null,
   "id": "ancient-decline",
   "metadata": {},
   "outputs": [],
   "source": [
    "# Sort major and salary arrays"
   ]
  },
  {
   "cell_type": "code",
   "execution_count": 212,
   "id": "billion-demonstration",
   "metadata": {},
   "outputs": [],
   "source": [
    "with open(majors_csv) as f:\n",
    "    x = [row.split(',')[0] for row in f]\n",
    "del x[0]\n",
    "y = [clean(i) for i in df['Starting Median Salary']]\n",
    "y, x = zip(*sorted(zip(y, x)))\n",
    "x, y = list(x), sorted(y)"
   ]
  },
  {
   "cell_type": "code",
   "execution_count": 213,
   "id": "proprietary-ireland",
   "metadata": {},
   "outputs": [],
   "source": [
    "# Bottom 10% of Starting Median Salaries"
   ]
  },
  {
   "cell_type": "code",
   "execution_count": 281,
   "id": "crucial-determination",
   "metadata": {},
   "outputs": [
    {
     "data": {
      "image/png": "[encoded data removed]",
      "text/plain": [
       "<Figure size 432x288 with 1 Axes>"
      ]
     },
     "metadata": {
      "needs_background": "light"
     },
     "output_type": "display_data"
    }
   ],
   "source": [
    "plt.barh([x[i] for i in range(5)], \n",
    "        [format_number(y[i]) for i in range(5)],\n",
    "        facecolor='indigo',\n",
    "        edgecolor='indigo',\n",
    "        linewidth=3,\n",
    "        alpha=.5)\n",
    "plt.show()"
   ]
  },
  {
   "cell_type": "code",
   "execution_count": 215,
   "id": "legal-moses",
   "metadata": {},
   "outputs": [],
   "source": [
    "# Top 10% of Starting Median Salaries"
   ]
  },
  {
   "cell_type": "code",
   "execution_count": 280,
   "id": "varied-chrome",
   "metadata": {},
   "outputs": [
    {
     "data": {
      "image/png": "[encoded data removed]",
      "text/plain": [
       "<Figure size 432x288 with 1 Axes>"
      ]
     },
     "metadata": {
      "needs_background": "light"
     },
     "output_type": "display_data"
    }
   ],
   "source": [
    "plt.barh([x[i] for i in range(44, 50)], \n",
    "         [format_number(y[i]) for i in range(44, 50)],\n",
    "        facecolor='orange',\n",
    "        edgecolor='orange',\n",
    "        linewidth=3,\n",
    "        alpha=.5)\n",
    "plt.show()"
   ]
  },
  {
   "cell_type": "code",
   "execution_count": 218,
   "id": "southeast-bundle",
   "metadata": {},
   "outputs": [],
   "source": [
    "# Standard Deviation of Starting Median Salary"
   ]
  },
  {
   "cell_type": "code",
   "execution_count": 219,
   "id": "equal-george",
   "metadata": {},
   "outputs": [
    {
     "data": {
      "text/plain": [
       "9266.784771429624"
      ]
     },
     "execution_count": 219,
     "metadata": {},
     "output_type": "execute_result"
    }
   ],
   "source": [
    "np.std([int(i) for i in y])"
   ]
  },
  {
   "cell_type": "code",
   "execution_count": 220,
   "id": "crucial-horse",
   "metadata": {},
   "outputs": [],
   "source": [
    "# Average salary of Starting Median Salary"
   ]
  },
  {
   "cell_type": "code",
   "execution_count": 221,
   "id": "local-jewelry",
   "metadata": {},
   "outputs": [
    {
     "name": "stdout",
     "output_type": "stream",
     "text": [
      "Average = $44,310.00\n"
     ]
    }
   ],
   "source": [
    "value = np.average([int(i) for i in y])\n",
    "print(\"Average = ${:,}.00\".format(int(value)))"
   ]
  },
  {
   "cell_type": "code",
   "execution_count": 246,
   "id": "isolated-communications",
   "metadata": {},
   "outputs": [],
   "source": [
    "# Mid-career Median Salary Array"
   ]
  },
  {
   "cell_type": "code",
   "execution_count": 253,
   "id": "unexpected-thing",
   "metadata": {},
   "outputs": [],
   "source": [
    "with open(majors_csv) as f:\n",
    "    mid_x = [row.split(',')[0] for row in f]\n",
    "del mid_x[0]\n",
    "mid_y = [clean(i) for i in df['Mid-Career Median Salary']]\n",
    "mid_y, mid_x = zip(*sorted(zip(mid_y, mid_x)))\n",
    "mid_x, mid_y = list(mid_x), sorted(mid_y)"
   ]
  },
  {
   "cell_type": "code",
   "execution_count": 254,
   "id": "mathematical-artwork",
   "metadata": {},
   "outputs": [],
   "source": [
    "# Bottom 10% of Mid-career Median Salaries"
   ]
  },
  {
   "cell_type": "code",
   "execution_count": 278,
   "id": "swiss-letters",
   "metadata": {},
   "outputs": [
    {
     "data": {
      "image/png": "[encoded data removed]",
      "text/plain": [
       "<Figure size 432x288 with 1 Axes>"
      ]
     },
     "metadata": {
      "needs_background": "light"
     },
     "output_type": "display_data"
    }
   ],
   "source": [
    "plt.barh([mid_x[i] for i in range(5)], \n",
    "         [format_number(mid_y[i]) for i in range(5)],\n",
    "        facecolor='b',\n",
    "        edgecolor='b',\n",
    "        linewidth=3,\n",
    "        alpha=.5)\n",
    "plt.show()"
   ]
  },
  {
   "cell_type": "code",
   "execution_count": 274,
   "id": "thorough-westminster",
   "metadata": {},
   "outputs": [],
   "source": [
    "# Top 10% of Mid-career Median Salaries"
   ]
  },
  {
   "cell_type": "code",
   "execution_count": 282,
   "id": "ongoing-studio",
   "metadata": {
    "scrolled": false
   },
   "outputs": [
    {
     "data": {
      "image/png": "[encoded data removed]",
      "text/plain": [
       "<Figure size 432x288 with 1 Axes>"
      ]
     },
     "metadata": {
      "needs_background": "light"
     },
     "output_type": "display_data"
    }
   ],
   "source": [
    "plt.barh([mid_x[i] for i in range(44, 50)], \n",
    "         [format_number(mid_y[i]) for i in range(44, 50)],\n",
    "        facecolor='r',\n",
    "        edgecolor='r',\n",
    "        linewidth=3,\n",
    "        alpha=.5)\n",
    "plt.show()"
   ]
  },
  {
   "cell_type": "code",
   "execution_count": 283,
   "id": "religious-academy",
   "metadata": {},
   "outputs": [],
   "source": [
    "# Standard Deviation of Mid-career Median Salaries"
   ]
  },
  {
   "cell_type": "code",
   "execution_count": 285,
   "id": "second-entrepreneur",
   "metadata": {},
   "outputs": [
    {
     "data": {
      "text/plain": [
       "15926.70725542477"
      ]
     },
     "execution_count": 285,
     "metadata": {},
     "output_type": "execute_result"
    }
   ],
   "source": [
    "np.std(mid_y)"
   ]
  },
  {
   "cell_type": "code",
   "execution_count": 286,
   "id": "aware-dallas",
   "metadata": {},
   "outputs": [],
   "source": [
    "# Average of Mid-career Median Salaries"
   ]
  },
  {
   "cell_type": "code",
   "execution_count": 292,
   "id": "earlier-closure",
   "metadata": {},
   "outputs": [
    {
     "name": "stdout",
     "output_type": "stream",
     "text": [
      "Average = $74,786.00\n"
     ]
    }
   ],
   "source": [
    "average = np.average([int(i) for i in mid_y])\n",
    "print(\"Average = ${:,}.00\".format(int(average)))"
   ]
  }
 ],
 "metadata": {
  "kernelspec": {
   "display_name": "Python 3",
   "language": "python",
   "name": "python3"
  },
  "language_info": {
   "codemirror_mode": {
    "name": "ipython",
    "version": 3
   },
   "file_extension": ".py",
   "mimetype": "text/x-python",
   "name": "python",
   "nbconvert_exporter": "python",
   "pygments_lexer": "ipython3",
   "version": "3.8.9"
  }
 },
 "nbformat": 4,
 "nbformat_minor": 5
}
